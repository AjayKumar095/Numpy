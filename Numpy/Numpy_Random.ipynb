{
 "cells": [
  {
   "cell_type": "markdown",
   "id": "624e2d36",
   "metadata": {},
   "source": [
    "<h1><center>Numpy Random</center></h1>"
   ]
  },
  {
   "cell_type": "markdown",
   "id": "f3ed6656",
   "metadata": {},
   "source": [
    "- Numpy provide us various methods and functions for generation for random numbers.\n",
    "- Numpy random provide various methods that produce data distribution of various kind.\n",
    "- With the help of this module, we can generate random sample data, random numbers that can not be predicted logically.\n"
   ]
  }
 ],
 "metadata": {
  "language_info": {
   "name": "python"
  }
 },
 "nbformat": 4,
 "nbformat_minor": 5
}

{
 "cells": [
  {
   "cell_type": "markdown",
   "metadata": {},
   "source": [
    "<h1 style=\"color:lightblue;\"><center><b>Numpy (Numerical Python)</b></center></h1>"
   ]
  },
  {
   "cell_type": "markdown",
   "metadata": {},
   "source": [
    "## Why Numpy?\n",
    "\n",
    "\n",
    "NumPy is a powerful numerical computing library in Python. It provides support for arrays, matrices, and many mathematical functions to operate on these data structures. Here are some reasons why we use NumPy:\n",
    "\n",
    "1. **Performance**: NumPy is implemented in C/C++, which makes it much faster than standard Python lists for numerical operations.\n",
    "2. **Array Operations**: It provides a wide range of array operations that are both efficient and convenient.\n",
    "3. **Mathematical Functions**: NumPy includes a large number of mathematical functions, such as linear algebra, statistical operations, and more.\n",
    "4. **Integration**: It integrates well with other scientific computing libraries like SciPy, Pandas, and Matplotlib.\n",
    "5. **Memory Efficiency**: NumPy arrays are more memory-efficient than Python lists, especially for large datasets.\n",
    "\n",
    "Overall, NumPy is an essential library for scientific computing and data analysis in Python."
   ]
  },
  {
   "cell_type": "code",
   "execution_count": 3,
   "metadata": {},
   "outputs": [
    {
     "data": {
      "text/plain": [
       "'1.26.4'"
      ]
     },
     "execution_count": 3,
     "metadata": {},
     "output_type": "execute_result"
    }
   ],
   "source": [
    "## How to import numpy and check the version of numpy\n",
    "## NumPy is a library for the Python programming language, adding support for large, multi-dimensional arrays and matrices, along with a large collection of high-level mathematical functions to operate on these arrays.\n",
    "## NumPy is developed by a large community of people. You can find more information about NumPy in the official website of NumPy.\n",
    "\n",
    "import numpy as np \n",
    "\n",
    "np.__version__\n"
   ]
  },
  {
   "cell_type": "code",
   "execution_count": 4,
   "metadata": {},
   "outputs": [
    {
     "name": "stdout",
     "output_type": "stream",
     "text": [
      "<class 'list'>\n",
      "<class 'numpy.ndarray'>\n"
     ]
    }
   ],
   "source": [
    "## Numpy use array to store data. The array is a data structure that stores values of same data type.\n",
    "## The array is a data structure that stores values of same data type. In Python, this is the main difference between arrays and lists. While python lists can contain values corresponding to different data types, arrays in python can only contain values corresponding to same data type.\n",
    "\n",
    "py_list = [1, 2, 3, 4, 5]\n",
    "\n",
    "np_array = np.array([1, 2, 3, 4, 5])\n",
    "## or\n",
    "np_array = np.array(py_list)\n",
    "\n",
    "print(type(py_list))\n",
    "print(type(np_array))"
   ]
  },
  {
   "cell_type": "code",
   "execution_count": 7,
   "metadata": {},
   "outputs": [
    {
     "name": "stdout",
     "output_type": "stream",
     "text": [
      "1\n",
      "(5,)\n",
      "5\n"
     ]
    }
   ],
   "source": [
    "## What is numpy.ndarray?\n",
    "## It define the dimensions of the array (1D, 2D, 3D, etc.) and some basic attributes of the array like its shape, size, data type, etc.\n",
    "\n",
    "print(np_array.ndim) ## ndim is used to check the dimension of the array.\n",
    "print(np_array.shape) ## shape is used to check the shape of the array.\n",
    "print(np_array.size) ## size is used to check the size of the array.\n",
    "## The size of the array is equal to the total number of elements in the array."
   ]
  },
  {
   "cell_type": "code",
   "execution_count": null,
   "metadata": {},
   "outputs": [
    {
     "name": "stdout",
     "output_type": "stream",
     "text": [
      "[1, 2, 3, 4, 5, 'string_value']\n",
      "['1' '2' '3' '4' '5' 'string_value']\n"
     ]
    }
   ],
   "source": [
    "## let varify that the data inside the array is of same data type\n",
    "\n",
    "l = [1, 2, 3, 4, 5, \"string_value\"]\n",
    "arr = np.array(l)\n",
    "print(l)\n",
    "print(arr)\n",
    "## We can see that the array has converted all the elements of the list to string. This is one of the main advantages of using numpy with python. It automatically converts the data to the same data type.\n",
    "## While python lists can contain values corresponding to different data types, arrays in python can only contain values corresponding to same data type."
   ]
  },
  {
   "cell_type": "code",
   "execution_count": null,
   "metadata": {},
   "outputs": [],
   "source": []
  }
 ],
 "metadata": {
  "kernelspec": {
   "display_name": "base",
   "language": "python",
   "name": "python3"
  },
  "language_info": {
   "codemirror_mode": {
    "name": "ipython",
    "version": 3
   },
   "file_extension": ".py",
   "mimetype": "text/x-python",
   "name": "python",
   "nbconvert_exporter": "python",
   "pygments_lexer": "ipython3",
   "version": "3.11.7"
  }
 },
 "nbformat": 4,
 "nbformat_minor": 2
}

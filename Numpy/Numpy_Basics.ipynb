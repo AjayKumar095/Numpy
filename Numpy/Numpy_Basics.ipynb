{
 "cells": [
  {
   "cell_type": "markdown",
   "metadata": {},
   "source": [
    "<h1 style=\"color:lightblue;\"><center><b>Numpy (Numerical Python)</b></center></h1>"
   ]
  },
  {
   "cell_type": "markdown",
   "metadata": {},
   "source": [
    "## Why Numpy?\n",
    "\n",
    "\n",
    "NumPy is a powerful numerical computing library in Python. It provides support for arrays, matrices, and many mathematical functions to operate on these data structures. Here are some reasons why we use NumPy:\n",
    "\n",
    "1. **Performance**: NumPy is implemented in C/C++, which makes it much faster than standard Python lists for numerical operations.\n",
    "2. **Array Operations**: It provides a wide range of array operations that are both efficient and convenient.\n",
    "3. **Mathematical Functions**: NumPy includes a large number of mathematical functions, such as linear algebra, statistical operations, and more.\n",
    "4. **Integration**: It integrates well with other scientific computing libraries like SciPy, Pandas, and Matplotlib.\n",
    "5. **Memory Efficiency**: NumPy arrays are more memory-efficient than Python lists, especially for large datasets.\n",
    "\n",
    "Overall, NumPy is an essential library for scientific computing and data analysis in Python."
   ]
  },
  {
   "cell_type": "code",
   "execution_count": 4,
   "metadata": {},
   "outputs": [
    {
     "data": {
      "text/plain": [
       "'1.26.4'"
      ]
     },
     "execution_count": 4,
     "metadata": {},
     "output_type": "execute_result"
    }
   ],
   "source": [
    "## How to import numpy and check the version of numpy\n",
    "## NumPy is a library for the Python programming language, adding support for large, multi-dimensional arrays and matrices, along with a large collection of high-level mathematical functions to operate on these arrays.\n",
    "## NumPy is developed by a large community of people. You can find more information about NumPy in the official website of NumPy.\n",
    "\n",
    "import numpy as np \n",
    "\n",
    "np.__version__\n"
   ]
  },
  {
   "cell_type": "code",
   "execution_count": 5,
   "metadata": {},
   "outputs": [
    {
     "name": "stdout",
     "output_type": "stream",
     "text": [
      "<class 'list'>\n",
      "<class 'numpy.ndarray'>\n"
     ]
    }
   ],
   "source": [
    "## Numpy use array to store data. The array is a data structure that stores values of same data type.\n",
    "## The array is a data structure that stores values of same data type. In Python, this is the main difference between arrays and lists. While python lists can contain values corresponding to different data types, arrays in python can only contain values corresponding to same data type.\n",
    "\n",
    "py_list = [1, 2, 3, 4, 5]\n",
    "\n",
    "np_array = np.array([1, 2, 3, 4, 5])\n",
    "## or\n",
    "np_array = np.array(py_list)\n",
    "\n",
    "print(type(py_list))\n",
    "print(type(np_array))"
   ]
  },
  {
   "cell_type": "code",
   "execution_count": 6,
   "metadata": {},
   "outputs": [
    {
     "name": "stdout",
     "output_type": "stream",
     "text": [
      "1\n",
      "(5,)\n",
      "5\n"
     ]
    }
   ],
   "source": [
    "## What is numpy.ndarray?\n",
    "## It define the dimensions of the array (1D, 2D, 3D, etc.) and some basic attributes of the array like its shape, size, data type, etc.\n",
    "\n",
    "print(np_array.ndim) ## ndim is used to check the dimension of the array. 1\n",
    "print(np_array.shape) ## shape is used to check the shape of the array. (5,)\n",
    "print(np_array.size) ## size is used to check the size of the array. 5\n",
    "## The size of the array is equal to the total number of elements in the array."
   ]
  },
  {
   "cell_type": "code",
   "execution_count": 7,
   "metadata": {},
   "outputs": [
    {
     "name": "stdout",
     "output_type": "stream",
     "text": [
      "[1, 2, 3, 4, 5, 'string_value']\n",
      "['1' '2' '3' '4' '5' 'string_value']\n"
     ]
    }
   ],
   "source": [
    "## let varify that the data inside the array is of same data type\n",
    "\n",
    "l = [1, 2, 3, 4, 5, \"string_value\"]\n",
    "arr = np.array(l)\n",
    "print(l)\n",
    "print(arr)\n",
    "## We can see that the array has converted all the elements of the list to string. This is one of the main advantages of using numpy with python. It automatically converts the data to the same data type.\n",
    "## While python lists can contain values corresponding to different data types, arrays in python can only contain values corresponding to same data type."
   ]
  },
  {
   "cell_type": "code",
   "execution_count": 9,
   "metadata": {},
   "outputs": [
    {
     "name": "stdout",
     "output_type": "stream",
     "text": [
      "[1 2 3 4 5]\n",
      "[[1 2 3 4 5]]\n"
     ]
    }
   ],
   "source": [
    "## Numpy matrix\n",
    "## A matrix is a two-dimensional data structure where numbers are arranged into rows and columns. \n",
    "## For example, a matrix of the form 3x3 has 3 rows and 3 columns.\n",
    "\n",
    "l = [1,2,3,4,5]\n",
    "\n",
    "print(np.array(l))\n",
    "print(np.matrix(l))\n",
    "\n",
    "## we can see the difference between the array and matrix.\n",
    "## The array is a data structure that stores values of same data type.\n",
    "## The matrix is a data structure that stores values of the same data type and has two dimensions.\n"
   ]
  },
  {
   "cell_type": "code",
   "execution_count": 10,
   "metadata": {},
   "outputs": [
    {
     "ename": "ValueError",
     "evalue": "matrix must be 2-dimensional",
     "output_type": "error",
     "traceback": [
      "\u001b[1;31m---------------------------------------------------------------------------\u001b[0m",
      "\u001b[1;31mValueError\u001b[0m                                Traceback (most recent call last)",
      "Cell \u001b[1;32mIn[10], line 3\u001b[0m\n\u001b[0;32m      1\u001b[0m \u001b[38;5;66;03m## Note that numpy matrices are strictly 2-dimensional, while numpy arrays (ndarrays) are N-dimensional.\u001b[39;00m\n\u001b[1;32m----> 3\u001b[0m \u001b[43mnp\u001b[49m\u001b[38;5;241;43m.\u001b[39;49m\u001b[43mmatrix\u001b[49m\u001b[43m(\u001b[49m\u001b[43m[\u001b[49m\u001b[43m[\u001b[49m\u001b[43m[\u001b[49m\u001b[38;5;241;43m1\u001b[39;49m\u001b[43m,\u001b[49m\u001b[43m \u001b[49m\u001b[38;5;241;43m2\u001b[39;49m\u001b[43m]\u001b[49m\u001b[43m,\u001b[49m\u001b[43m \u001b[49m\u001b[43m[\u001b[49m\u001b[38;5;241;43m3\u001b[39;49m\u001b[43m,\u001b[49m\u001b[43m \u001b[49m\u001b[38;5;241;43m4\u001b[39;49m\u001b[43m]\u001b[49m\u001b[43m]\u001b[49m\u001b[43m]\u001b[49m\u001b[43m)\u001b[49m \u001b[38;5;66;03m## ValueError: matrix must be 2-dimensional\u001b[39;00m\n",
      "File \u001b[1;32md:\\Anaconda3\\Lib\\site-packages\\numpy\\matrixlib\\defmatrix.py:150\u001b[0m, in \u001b[0;36mmatrix.__new__\u001b[1;34m(subtype, data, dtype, copy)\u001b[0m\n\u001b[0;32m    148\u001b[0m shape \u001b[38;5;241m=\u001b[39m arr\u001b[38;5;241m.\u001b[39mshape\n\u001b[0;32m    149\u001b[0m \u001b[38;5;28;01mif\u001b[39;00m (ndim \u001b[38;5;241m>\u001b[39m \u001b[38;5;241m2\u001b[39m):\n\u001b[1;32m--> 150\u001b[0m     \u001b[38;5;28;01mraise\u001b[39;00m \u001b[38;5;167;01mValueError\u001b[39;00m(\u001b[38;5;124m\"\u001b[39m\u001b[38;5;124mmatrix must be 2-dimensional\u001b[39m\u001b[38;5;124m\"\u001b[39m)\n\u001b[0;32m    151\u001b[0m \u001b[38;5;28;01melif\u001b[39;00m ndim \u001b[38;5;241m==\u001b[39m \u001b[38;5;241m0\u001b[39m:\n\u001b[0;32m    152\u001b[0m     shape \u001b[38;5;241m=\u001b[39m (\u001b[38;5;241m1\u001b[39m, \u001b[38;5;241m1\u001b[39m)\n",
      "\u001b[1;31mValueError\u001b[0m: matrix must be 2-dimensional"
     ]
    }
   ],
   "source": [
    "## Note that numpy matrices are strictly 2-dimensional, while numpy arrays (ndarrays) are N-dimensional.\n",
    "\n",
    "np.matrix([[[1, 2], [3, 4]]]) ## ValueError: matrix must be 2-dimensional"
   ]
  },
  {
   "cell_type": "code",
   "execution_count": 11,
   "metadata": {},
   "outputs": [
    {
     "data": {
      "text/plain": [
       "array([[1, 2, 3],\n",
       "       [4, 5, 6]])"
      ]
     },
     "execution_count": 11,
     "metadata": {},
     "output_type": "execute_result"
    }
   ],
   "source": [
    "## np.array()\n",
    "## np.asarray()\n",
    "## np.asanyarray()\n",
    "l = [[1, 2, 3], [4, 5, 6]]\n",
    "\n",
    "## np.array() is used to create an array from a list or tuple.\n",
    "np.array(l)"
   ]
  },
  {
   "cell_type": "code",
   "execution_count": 12,
   "metadata": {},
   "outputs": [
    {
     "data": {
      "text/plain": [
       "array([[1, 2, 3],\n",
       "       [4, 5, 6]])"
      ]
     },
     "execution_count": 12,
     "metadata": {},
     "output_type": "execute_result"
    }
   ],
   "source": [
    "## np.asarray() is used to convert input to an array.\n",
    "np.asarray(l)"
   ]
  },
  {
   "cell_type": "code",
   "execution_count": 13,
   "metadata": {},
   "outputs": [
    {
     "data": {
      "text/plain": [
       "array([[1, 2, 3],\n",
       "       [4, 5, 6]])"
      ]
     },
     "execution_count": 13,
     "metadata": {},
     "output_type": "execute_result"
    }
   ],
   "source": [
    "## np.asanyarray() is used to convert input to an array if input is not already an array.\n",
    "np.asanyarray(l)"
   ]
  },
  {
   "cell_type": "code",
   "execution_count": 14,
   "metadata": {},
   "outputs": [],
   "source": [
    "## np.array() vs np.asarray()\n",
    "## The main difference between np.array() and np.asarray() is that np.array() is used to create an array from a list or tuple while np.asarray() is used to convert input to an array.\n",
    "\n",
    "## np.array() vs np.asanyarray()\n",
    "## The main difference between np.array() and np.asanyarray() is that np.array() is used to create an array from a list or tuple while np.asanyarray() is used to convert input to an array if input is not already an array."
   ]
  },
  {
   "cell_type": "code",
   "execution_count": 15,
   "metadata": {},
   "outputs": [
    {
     "data": {
      "text/plain": [
       "matrix([[1, 2, 3],\n",
       "        [4, 5, 6]])"
      ]
     },
     "execution_count": 15,
     "metadata": {},
     "output_type": "execute_result"
    }
   ],
   "source": [
    "mat = np.matrix([[1, 2, 3], [4, 5, 6]])\n",
    "mat"
   ]
  },
  {
   "cell_type": "code",
   "execution_count": 16,
   "metadata": {},
   "outputs": [
    {
     "data": {
      "text/plain": [
       "matrix([[1, 2, 3],\n",
       "        [4, 5, 6]])"
      ]
     },
     "execution_count": 16,
     "metadata": {},
     "output_type": "execute_result"
    }
   ],
   "source": [
    "np.asanyarray(mat)\n",
    "# The asanyarray() function is used to convert input to an array if input is not already an array.\n",
    "# If input is an ndarray it is returned unaltered. \n",
    "# If input is a tuple, a list, or an ndarray, a new array is created with input as the first array in the new array. \n",
    "# If input is a subclass of ndarray, a base class ndarray is returned."
   ]
  },
  {
   "cell_type": "markdown",
   "metadata": {},
   "source": [
    "## Different ways to create arrays"
   ]
  },
  {
   "cell_type": "code",
   "execution_count": null,
   "metadata": {},
   "outputs": [
    {
     "data": {
      "text/plain": [
       "array([[ True, False, False],\n",
       "       [False,  True, False],\n",
       "       [False, False,  True]])"
      ]
     },
     "execution_count": 17,
     "metadata": {},
     "output_type": "execute_result"
    }
   ],
   "source": [
    "## By using np.fromfunction() function\n",
    "\n",
    "## The np.fromfunction() function is used to construct an array by executing a function over each coordinate.\n",
    "\n",
    "arr = np.fromfunction(lambda i, j: i == j, (3, 3), dtype=int)\n",
    "arr"
   ]
  },
  {
   "cell_type": "code",
   "execution_count": 19,
   "metadata": {},
   "outputs": [
    {
     "data": {
      "text/plain": [
       "array([ 0,  1,  4,  9, 16])"
      ]
     },
     "execution_count": 19,
     "metadata": {},
     "output_type": "execute_result"
    }
   ],
   "source": [
    "## By using np.fromiter() function\n",
    "## The np.fromiter() function is used to create a new 1-dimensional array from an iterable object.\n",
    "\n",
    "iterable = (x*x for x in range(5))\n",
    "arr = np.fromiter(iterable, int)\n",
    "arr"
   ]
  },
  {
   "cell_type": "code",
   "execution_count": 20,
   "metadata": {},
   "outputs": [
    {
     "data": {
      "text/plain": [
       "array([234., 234.])"
      ]
     },
     "execution_count": 20,
     "metadata": {},
     "output_type": "execute_result"
    }
   ],
   "source": [
    "## by using np.fromstring() function\n",
    "## The np.fromstring() function is used to create a new 1-dimensional array from a string.\n",
    "\n",
    "arr = np.fromstring('234 234', sep=' ')\n",
    "arr"
   ]
  },
  {
   "cell_type": "code",
   "execution_count": null,
   "metadata": {},
   "outputs": [],
   "source": []
  }
 ],
 "metadata": {
  "kernelspec": {
   "display_name": "base",
   "language": "python",
   "name": "python3"
  },
  "language_info": {
   "codemirror_mode": {
    "name": "ipython",
    "version": 3
   },
   "file_extension": ".py",
   "mimetype": "text/x-python",
   "name": "python",
   "nbconvert_exporter": "python",
   "pygments_lexer": "ipython3",
   "version": "3.11.7"
  }
 },
 "nbformat": 4,
 "nbformat_minor": 2
}
